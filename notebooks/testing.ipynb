{
 "cells": [
  {
   "cell_type": "code",
   "execution_count": 8,
   "id": "bf88b2a9",
   "metadata": {},
   "outputs": [
    {
     "name": "stdout",
     "output_type": "stream",
     "text": [
      "The autoreload extension is already loaded. To reload it, use:\n",
      "  %reload_ext autoreload\n"
     ]
    },
    {
     "ename": "ModuleNotFoundError",
     "evalue": "No module named 'einops'",
     "output_type": "error",
     "traceback": [
      "\u001b[0;31m---------------------------------------------------------------------------\u001b[0m",
      "\u001b[0;31mModuleNotFoundError\u001b[0m                       Traceback (most recent call last)",
      "Cell \u001b[0;32mIn[8], line 17\u001b[0m\n\u001b[1;32m     15\u001b[0m \u001b[38;5;66;03m# Internal libs\u001b[39;00m\n\u001b[1;32m     16\u001b[0m os\u001b[38;5;241m.\u001b[39mchdir(\u001b[38;5;124m\"\u001b[39m\u001b[38;5;124m../scripts\u001b[39m\u001b[38;5;124m\"\u001b[39m)  \u001b[38;5;66;03m# WARNING: changing dir every time cell is called\u001b[39;00m\n\u001b[0;32m---> 17\u001b[0m \u001b[38;5;28;01mimport\u001b[39;00m \u001b[38;5;21;01mdata\u001b[39;00m\u001b[38;5;241m,\u001b[39m \u001b[38;5;21;01mmodel\u001b[39;00m\u001b[38;5;241m,\u001b[39m \u001b[38;5;21;01mengine\u001b[39;00m\u001b[38;5;241m,\u001b[39m \u001b[38;5;21;01mutils\u001b[39;00m\n\u001b[1;32m     18\u001b[0m \u001b[38;5;28;01mfrom\u001b[39;00m \u001b[38;5;21;01mconstants\u001b[39;00m \u001b[38;5;28;01mimport\u001b[39;00m \u001b[38;5;241m*\u001b[39m\n\u001b[1;32m     19\u001b[0m os\u001b[38;5;241m.\u001b[39mchdir(\u001b[38;5;124m\"\u001b[39m\u001b[38;5;124m../notebooks\u001b[39m\u001b[38;5;124m\"\u001b[39m)\n",
      "File \u001b[0;32m~/Documents/Universal-Mask-Finding/scripts/model.py:10\u001b[0m\n\u001b[1;32m      8\u001b[0m \u001b[38;5;28;01mimport\u001b[39;00m \u001b[38;5;21;01mthreading\u001b[39;00m\n\u001b[1;32m      9\u001b[0m \u001b[38;5;28;01mimport\u001b[39;00m \u001b[38;5;21;01mmath\u001b[39;00m\n\u001b[0;32m---> 10\u001b[0m \u001b[38;5;28;01mimport\u001b[39;00m \u001b[38;5;21;01mutils\u001b[39;00m\n\u001b[1;32m     13\u001b[0m \u001b[38;5;66;03m# re-implementation from https://github.com/CSAILVision/semantic-segmentation-pytorch/\u001b[39;00m\n\u001b[1;32m     15\u001b[0m NUM_CLASSES \u001b[38;5;241m=\u001b[39m \u001b[38;5;241m1\u001b[39m\n",
      "File \u001b[0;32m~/Documents/Universal-Mask-Finding/scripts/utils.py:10\u001b[0m\n\u001b[1;32m      8\u001b[0m \u001b[38;5;28;01mimport\u001b[39;00m \u001b[38;5;21;01mnumpy\u001b[39;00m \u001b[38;5;28;01mas\u001b[39;00m \u001b[38;5;21;01mnp\u001b[39;00m\n\u001b[1;32m      9\u001b[0m \u001b[38;5;28;01mfrom\u001b[39;00m \u001b[38;5;21;01mtyping\u001b[39;00m \u001b[38;5;28;01mimport\u001b[39;00m Union\n\u001b[0;32m---> 10\u001b[0m \u001b[38;5;28;01mfrom\u001b[39;00m \u001b[38;5;21;01meinops\u001b[39;00m \u001b[38;5;28;01mimport\u001b[39;00m rearrange\n\u001b[1;32m     11\u001b[0m \u001b[38;5;28;01mimport\u001b[39;00m \u001b[38;5;21;01mcv2\u001b[39;00m\n\u001b[1;32m     12\u001b[0m \u001b[38;5;28;01mfrom\u001b[39;00m \u001b[38;5;21;01mconstants\u001b[39;00m \u001b[38;5;28;01mimport\u001b[39;00m \u001b[38;5;241m*\u001b[39m\n",
      "\u001b[0;31mModuleNotFoundError\u001b[0m: No module named 'einops'"
     ]
    }
   ],
   "source": [
    "%load_ext autoreload\n",
    "%autoreload 2\n",
    "\n",
    "import torch\n",
    "from torch import nn\n",
    "import torchvision\n",
    "from torchvision import transforms\n",
    "import torchmetrics\n",
    "from torchinfo import summary\n",
    "from pathlib import Path\n",
    "import os\n",
    "import pandas as pd\n",
    "import matplotlib.pyplot as plt\n",
    "\n",
    "# Internal libs\n",
    "os.chdir(\"../scripts\")  # WARNING: changing dir every time cell is called\n",
    "import data, model, engine, utils\n",
    "from constants import *\n",
    "os.chdir(\"../notebooks\")"
   ]
  },
  {
   "cell_type": "code",
   "execution_count": 9,
   "id": "0b524726",
   "metadata": {},
   "outputs": [
    {
     "name": "stdout",
     "output_type": "stream",
     "text": [
      "/Users/akt01/opt/miniconda3/bin/jupyter\r\n"
     ]
    }
   ],
   "source": [
    "!which jupyter"
   ]
  },
  {
   "cell_type": "code",
   "execution_count": 10,
   "id": "83e0a0f4",
   "metadata": {},
   "outputs": [
    {
     "name": "stdout",
     "output_type": "stream",
     "text": [
      "/Users/akt01/.pyenv/shims/pip\r\n"
     ]
    }
   ],
   "source": [
    "!which pip"
   ]
  },
  {
   "cell_type": "code",
   "execution_count": 11,
   "id": "9ad0f464",
   "metadata": {},
   "outputs": [
    {
     "name": "stdout",
     "output_type": "stream",
     "text": [
      "Installed kernelspec local-venv-kernel in /Users/akt01/Library/Jupyter/kernels/local-venv-kernel\r\n"
     ]
    }
   ],
   "source": [
    "!ipython kernel install --name \"local-venv-kernel\" --user"
   ]
  },
  {
   "cell_type": "code",
   "execution_count": 7,
   "id": "edb34822",
   "metadata": {},
   "outputs": [
    {
     "name": "stdout",
     "output_type": "stream",
     "text": [
      "Collecting einops\n",
      "  Using cached einops-0.6.1-py3-none-any.whl (42 kB)\n",
      "Installing collected packages: einops\n",
      "Successfully installed einops-0.6.1\n",
      "\n",
      "\u001b[1m[\u001b[0m\u001b[34;49mnotice\u001b[0m\u001b[1;39;49m]\u001b[0m\u001b[39;49m A new release of pip is available: \u001b[0m\u001b[31;49m23.1.1\u001b[0m\u001b[39;49m -> \u001b[0m\u001b[32;49m23.1.2\u001b[0m\n",
      "\u001b[1m[\u001b[0m\u001b[34;49mnotice\u001b[0m\u001b[1;39;49m]\u001b[0m\u001b[39;49m To update, run: \u001b[0m\u001b[32;49mpip install --upgrade pip\u001b[0m\n"
     ]
    }
   ],
   "source": [
    "!pip install --ignore-installed einops"
   ]
  },
  {
   "cell_type": "code",
   "execution_count": null,
   "id": "93195adb",
   "metadata": {
    "collapsed": true
   },
   "outputs": [],
   "source": [
    "if torch.backends.mps.is_available() and torch.backends.mps.is_built():\n",
    "    device = \"mps\"\n",
    "else:\n",
    "    device = \"cpu\""
   ]
  },
  {
   "cell_type": "code",
   "execution_count": null,
   "id": "f0b48ee0",
   "metadata": {},
   "outputs": [],
   "source": [
    "# ------------------ Data ------------------\n",
    "image_transform = transforms.Compose(\n",
    "    [\n",
    "        transforms.Resize((224, 224)),\n",
    "        transforms.ToTensor(),\n",
    "#         transforms.Normalize(mean=[0.485, 0.456, 0.406], std=[0.229, 0.224, 0.225]),\n",
    "    ]\n",
    ")\n",
    "\n",
    "mask_transform = transforms.Compose(\n",
    "    [\n",
    "        transforms.Resize((224, 224)),\n",
    "        transforms.ToTensor(),\n",
    "    ]\n",
    ")\n",
    "\n",
    "class_map_path = TRAIN_DIR.parent / \"defect_map.json\"\n",
    "train_data = data.SegmentationDataset(\n",
    "                TRAIN_DIR,\n",
    "                class_map_path,\n",
    "                image_transform=image_transform,\n",
    "                mask_transform=mask_transform,\n",
    "            )\n",
    "\n",
    "(\n",
    "    train_dataloader,\n",
    "    dev_dataloader,\n",
    "    test_dataloader,\n",
    "    class_names,\n",
    ") = data.create_dataloaders(\n",
    "    train_dir=TRAIN_DIR,\n",
    "    dev_dir=DEV_DIR,\n",
    "    test_dir=TEST_DIR,\n",
    "    batch_size=NUM_BATCHES,\n",
    "    image_transform=image_transform,\n",
    "    mask_transform=mask_transform,\n",
    ")"
   ]
  },
  {
   "cell_type": "code",
   "execution_count": null,
   "id": "b9c52ab1",
   "metadata": {},
   "outputs": [],
   "source": [
    "image, mask = train_data.get_images(0)"
   ]
  },
  {
   "cell_type": "code",
   "execution_count": null,
   "id": "52f9ead7",
   "metadata": {},
   "outputs": [],
   "source": [
    "plt.imshow(image);"
   ]
  },
  {
   "cell_type": "code",
   "execution_count": null,
   "id": "881e76e4",
   "metadata": {},
   "outputs": [],
   "source": [
    "plt.imshow(mask);"
   ]
  },
  {
   "cell_type": "code",
   "execution_count": null,
   "id": "fa7b758d",
   "metadata": {},
   "outputs": [],
   "source": [
    "test = next(iter(train_dataloader))\n",
    "# test = test[0][0].reshape((224, 224, 3))"
   ]
  },
  {
   "cell_type": "code",
   "execution_count": null,
   "id": "cca92512",
   "metadata": {},
   "outputs": [],
   "source": [
    "# ------------------ Model ------------------\n",
    "# instantiate pretrained resnet18 model\n",
    "model = model.resnet_model(n_resnet_layers=\"resnet18\", pretrained=True, device=device)\n",
    "\n",
    "# modify classifier layer for desired number of classes\n",
    "old_num_features = model.fc.in_features\n",
    "model.fc = nn.Linear(old_num_features, NUM_CLASSES)\n",
    "\n",
    "model.to(device)\n",
    "\n",
    "breakpoint()\n",
    "\n",
    "torch.manual_seed = RANDOM_SEED"
   ]
  },
  {
   "cell_type": "code",
   "execution_count": null,
   "id": "50f87de8",
   "metadata": {},
   "outputs": [],
   "source": [
    "# ------------------ Training ------------------\n",
    "# define loss, optimizer, accuracy\n",
    "loss_fn = nn.CrossEntropyLoss()\n",
    "optimizer = torch.optim.SGD(params=model.parameters(), lr=LEARNING_RATE)\n",
    "accuracy_fn = torchmetrics.Accuracy(task=\"multiclass\", num_classes=NUM_CLASSES)\n",
    "\n",
    "# # train model\n",
    "# training_results = engine.train(\n",
    "#     model,\n",
    "#     train_dataloader,\n",
    "#     dev_dataloader,\n",
    "#     loss_fn,\n",
    "#     optimizer,\n",
    "#     accuracy_fn,\n",
    "#     NUM_EPOCHS,\n",
    "#     device,\n",
    "# )\n",
    "\n",
    "# # save model\n",
    "# utils.save_model(model, MODEL_NAME)\n",
    "\n",
    "# # save training results\n",
    "# pd.DataFrame(training_results).to_csv(\n",
    "#     Path(f\"./models/{MODEL_NAME}/{MODEL_NAME}_training.csv\"), index_label=\"epoch\"\n",
    "# )"
   ]
  },
  {
   "cell_type": "code",
   "execution_count": null,
   "id": "8927edef",
   "metadata": {},
   "outputs": [],
   "source": [
    "from torchvision.models.segmentation.deeplabv3 import DeepLabHead"
   ]
  },
  {
   "cell_type": "code",
   "execution_count": null,
   "id": "e9249d24",
   "metadata": {},
   "outputs": [],
   "source": [
    "model = DeepLabHead(2048, 1)"
   ]
  },
  {
   "cell_type": "code",
   "execution_count": null,
   "id": "77bc0995",
   "metadata": {},
   "outputs": [],
   "source": [
    "summary(model=model, input_size=(32, 3, 224, 224), col_names=[\"input_size\", \"output_size\", \"num_params\", \"trainable\"], col_width=20, row_settings=[\"var_names\"])"
   ]
  },
  {
   "cell_type": "code",
   "execution_count": null,
   "id": "46fdd84c",
   "metadata": {},
   "outputs": [],
   "source": []
  }
 ],
 "metadata": {
  "kernelspec": {
   "display_name": "Python 3 (ipykernel)",
   "language": "python",
   "name": "python3"
  },
  "language_info": {
   "codemirror_mode": {
    "name": "ipython",
    "version": 3
   },
   "file_extension": ".py",
   "mimetype": "text/x-python",
   "name": "python",
   "nbconvert_exporter": "python",
   "pygments_lexer": "ipython3",
   "version": "3.9.12"
  }
 },
 "nbformat": 4,
 "nbformat_minor": 5
}
