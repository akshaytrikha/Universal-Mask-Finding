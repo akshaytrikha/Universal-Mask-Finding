{
 "cells": [
  {
   "cell_type": "code",
   "execution_count": 1,
   "id": "bf88b2a9",
   "metadata": {},
   "outputs": [],
   "source": [
    "%load_ext autoreload\n",
    "%autoreload 2\n",
    "\n",
    "import torch\n",
    "from torch import nn\n",
    "import torchvision\n",
    "from torchvision import transforms\n",
    "import torchmetrics\n",
    "from torchinfo import summary\n",
    "from pathlib import Path\n",
    "import os\n",
    "import pandas as pd\n",
    "import matplotlib.pyplot as plt\n",
    "\n",
    "# Internal libs\n",
    "os.chdir(\"../\")  # WARNING: changing dir every time cell is called\n",
    "from scripts import data, model, engine, utils\n",
    "\n",
    "\n",
    "MODEL_NAME = \"Universal Resnet18 23_03_18 #1\"\n",
    "RANDOM_SEED = 100\n",
    "NUM_WORKERS = os.cpu_count()\n",
    "\n",
    "# hyperparameterse\n",
    "NUM_BATCHES = 32\n",
    "NUM_EPOCHS = 100\n",
    "LEARNING_RATE = 0.001\n",
    "\n",
    "TRAIN_DIR = Path(\"./data/train/\")\n",
    "DEV_DIR = Path(\"./data/dev/\")\n",
    "TEST_DIR = Path(\"./data/test/\")"
   ]
  },
  {
   "cell_type": "code",
   "execution_count": 2,
   "id": "93195adb",
   "metadata": {},
   "outputs": [],
   "source": [
    "if torch.backends.mps.is_available() and torch.backends.mps.is_built():\n",
    "    device = \"mps\"\n",
    "else:\n",
    "    device = \"cpu\""
   ]
  },
  {
   "cell_type": "code",
   "execution_count": 3,
   "id": "0cd32783",
   "metadata": {},
   "outputs": [],
   "source": [
    "# ------------------ Data ------------------\n",
    "image_transform = transforms.Compose(\n",
    "    [\n",
    "        transforms.Resize((224, 224)),\n",
    "        transforms.ToTensor(),\n",
    "#         transforms.Normalize(mean=[0.485, 0.456, 0.406], std=[0.229, 0.224, 0.225]),\n",
    "    ]\n",
    ")\n",
    "\n",
    "mask_transform = transforms.Compose(\n",
    "    [\n",
    "        transforms.Resize((224, 224)),\n",
    "        transforms.ToTensor(),\n",
    "    ]\n",
    ")\n",
    "\n",
    "# (\n",
    "#     train_dataloader,\n",
    "#     dev_dataloader,\n",
    "#     test_dataloader,\n",
    "#     class_names,\n",
    "# ) = data.create_dataloaders(\n",
    "#     train_dir=TRAIN_DIR,\n",
    "#     dev_dir=DEV_DIR,\n",
    "#     test_dir=TEST_DIR,\n",
    "#     batch_size=NUM_BATCHES,\n",
    "#     image_transform=image_transform,\n",
    "#     mask_transform=mask_transform,\n",
    "# )\n",
    "# NUM_CLASSES = len(class_names)\n",
    "\n",
    "class_map_path = TRAIN_DIR.parent / \"defect_map.json\"\n",
    "train_data = data.SegmentationDataset(\n",
    "                TRAIN_DIR,\n",
    "                class_map_path,\n",
    "                image_transform=image_transform,\n",
    "                mask_transform=mask_transform,\n",
    "            )"
   ]
  },
  {
   "cell_type": "code",
   "execution_count": 6,
   "id": "c9abade5",
   "metadata": {},
   "outputs": [],
   "source": [
    "image, mask = train_data.get_images(0)"
   ]
  },
  {
   "cell_type": "code",
   "execution_count": null,
   "id": "78a8769e",
   "metadata": {},
   "outputs": [],
   "source": [
    "test = next(iter(train_dataloader))\n",
    "# test = test[0][0].reshape((224, 224, 3))"
   ]
  },
  {
   "cell_type": "code",
   "execution_count": null,
   "id": "cca92512",
   "metadata": {},
   "outputs": [],
   "source": [
    "# ------------------ Model ------------------\n",
    "# instantiate pretrained resnet18 model\n",
    "model = model.resnet_model(n_resnet_layers=\"resnet18\", pretrained=True, device=device)\n",
    "\n",
    "# modify classifier layer for desired number of classes\n",
    "old_num_features = model.fc.in_features\n",
    "model.fc = nn.Linear(old_num_features, NUM_CLASSES)\n",
    "\n",
    "model.to(device)\n",
    "\n",
    "breakpoint()\n",
    "\n",
    "torch.manual_seed = RANDOM_SEED"
   ]
  },
  {
   "cell_type": "code",
   "execution_count": null,
   "id": "50f87de8",
   "metadata": {},
   "outputs": [],
   "source": [
    "# ------------------ Training ------------------\n",
    "# define loss, optimizer, accuracy\n",
    "loss_fn = nn.CrossEntropyLoss()\n",
    "optimizer = torch.optim.SGD(params=model.parameters(), lr=LEARNING_RATE)\n",
    "accuracy_fn = torchmetrics.Accuracy(task=\"multiclass\", num_classes=NUM_CLASSES)\n",
    "\n",
    "# # train model\n",
    "# training_results = engine.train(\n",
    "#     model,\n",
    "#     train_dataloader,\n",
    "#     dev_dataloader,\n",
    "#     loss_fn,\n",
    "#     optimizer,\n",
    "#     accuracy_fn,\n",
    "#     NUM_EPOCHS,\n",
    "#     device,\n",
    "# )\n",
    "\n",
    "# # save model\n",
    "# utils.save_model(model, MODEL_NAME)\n",
    "\n",
    "# # save training results\n",
    "# pd.DataFrame(training_results).to_csv(\n",
    "#     Path(f\"./models/{MODEL_NAME}/{MODEL_NAME}_training.csv\"), index_label=\"epoch\"\n",
    "# )"
   ]
  }
 ],
 "metadata": {
  "kernelspec": {
   "display_name": "Python 3 (ipykernel)",
   "language": "python",
   "name": "python3"
  },
  "language_info": {
   "codemirror_mode": {
    "name": "ipython",
    "version": 3
   },
   "file_extension": ".py",
   "mimetype": "text/x-python",
   "name": "python",
   "nbconvert_exporter": "python",
   "pygments_lexer": "ipython3",
   "version": "3.9.12"
  }
 },
 "nbformat": 4,
 "nbformat_minor": 5
}
